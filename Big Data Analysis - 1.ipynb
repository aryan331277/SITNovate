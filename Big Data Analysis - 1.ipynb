{
  "nbformat": 4,
  "nbformat_minor": 0,
  "metadata": {
    "colab": {
      "provenance": [],
      "gpuType": "T4"
    },
    "kernelspec": {
      "name": "python3",
      "display_name": "Python 3"
    },
    "language_info": {
      "name": "python"
    },
    "accelerator": "GPU"
  },
  "cells": [
    {
      "cell_type": "code",
      "execution_count": null,
      "metadata": {
        "colab": {
          "base_uri": "https://localhost:8080/"
        },
        "id": "J-3ZsZ9agcc2",
        "outputId": "f21721bd-182f-499d-9e3b-e28bc0350e60"
      },
      "outputs": [
        {
          "output_type": "stream",
          "name": "stdout",
          "text": [
            "Drive already mounted at /content/drive; to attempt to forcibly remount, call drive.mount(\"/content/drive\", force_remount=True).\n"
          ]
        }
      ],
      "source": [
        "import polars as pl\n",
        "import numpy as np\n",
        "from google.colab import drive\n",
        "drive.mount('/content/drive')"
      ]
    },
    {
      "cell_type": "code",
      "source": [
        "df=pl.read_csv('/content/drive/MyDrive/retail_sales.csv')\n",
        "df"
      ],
      "metadata": {
        "colab": {
          "base_uri": "https://localhost:8080/",
          "height": 636
        },
        "id": "gvk8KdtFhEVj",
        "outputId": "83b9ad2c-716f-4bcb-83ce-d9ef3e1e1553"
      },
      "execution_count": null,
      "outputs": [
        {
          "output_type": "execute_result",
          "data": {
            "text/plain": [
              "shape: (19_454_838, 13)\n",
              "┌────────────┬──────────┬────────────┬───────┬───┬────────────┬────────────┬───────────┬───────────┐\n",
              "│ product_id ┆ store_id ┆ date       ┆ sales ┆ … ┆ promo_type ┆ promo_bin_ ┆ promo_dis ┆ promo_dis │\n",
              "│ ---        ┆ ---      ┆ ---        ┆ ---   ┆   ┆ _2         ┆ 2          ┆ count_2   ┆ count_typ │\n",
              "│ str        ┆ str      ┆ str        ┆ f64   ┆   ┆ ---        ┆ ---        ┆ ---       ┆ e_2       │\n",
              "│            ┆          ┆            ┆       ┆   ┆ str        ┆ str        ┆ str       ┆ ---       │\n",
              "│            ┆          ┆            ┆       ┆   ┆            ┆            ┆           ┆ str       │\n",
              "╞════════════╪══════════╪════════════╪═══════╪═══╪════════════╪════════════╪═══════════╪═══════════╡\n",
              "│ P0001      ┆ S0002    ┆ 2017-01-02 ┆ 0.0   ┆ … ┆ PR03       ┆ null       ┆ null      ┆ null      │\n",
              "│ P0001      ┆ S0012    ┆ 2017-01-02 ┆ 1.0   ┆ … ┆ PR03       ┆ null       ┆ null      ┆ null      │\n",
              "│ P0001      ┆ S0013    ┆ 2017-01-02 ┆ 2.0   ┆ … ┆ PR03       ┆ null       ┆ null      ┆ null      │\n",
              "│ P0001      ┆ S0023    ┆ 2017-01-02 ┆ 0.0   ┆ … ┆ PR03       ┆ null       ┆ null      ┆ null      │\n",
              "│ P0001      ┆ S0025    ┆ 2017-01-02 ┆ 0.0   ┆ … ┆ PR03       ┆ null       ┆ null      ┆ null      │\n",
              "│ …          ┆ …        ┆ …          ┆ …     ┆ … ┆ …          ┆ …          ┆ …         ┆ …         │\n",
              "│ P0748      ┆ S0125    ┆ 2019-12-29 ┆ null  ┆ … ┆ PR03       ┆ null       ┆ null      ┆ null      │\n",
              "│ P0748      ┆ S0126    ┆ 2019-12-29 ┆ null  ┆ … ┆ PR03       ┆ null       ┆ null      ┆ null      │\n",
              "│ P0748      ┆ S0131    ┆ 2019-12-29 ┆ null  ┆ … ┆ PR03       ┆ null       ┆ null      ┆ null      │\n",
              "│ P0748      ┆ S0132    ┆ 2019-12-29 ┆ null  ┆ … ┆ PR03       ┆ null       ┆ null      ┆ null      │\n",
              "│ P0748      ┆ S0142    ┆ 2019-12-29 ┆ null  ┆ … ┆ PR03       ┆ null       ┆ null      ┆ null      │\n",
              "└────────────┴──────────┴────────────┴───────┴───┴────────────┴────────────┴───────────┴───────────┘"
            ],
            "text/html": [
              "<div><style>\n",
              ".dataframe > thead > tr,\n",
              ".dataframe > tbody > tr {\n",
              "  text-align: right;\n",
              "  white-space: pre-wrap;\n",
              "}\n",
              "</style>\n",
              "<small>shape: (19_454_838, 13)</small><table border=\"1\" class=\"dataframe\"><thead><tr><th>product_id</th><th>store_id</th><th>date</th><th>sales</th><th>revenue</th><th>stock</th><th>price</th><th>promo_type_1</th><th>promo_bin_1</th><th>promo_type_2</th><th>promo_bin_2</th><th>promo_discount_2</th><th>promo_discount_type_2</th></tr><tr><td>str</td><td>str</td><td>str</td><td>f64</td><td>f64</td><td>f64</td><td>f64</td><td>str</td><td>str</td><td>str</td><td>str</td><td>str</td><td>str</td></tr></thead><tbody><tr><td>&quot;P0001&quot;</td><td>&quot;S0002&quot;</td><td>&quot;2017-01-02&quot;</td><td>0.0</td><td>0.0</td><td>8.0</td><td>6.25</td><td>&quot;PR14&quot;</td><td>null</td><td>&quot;PR03&quot;</td><td>null</td><td>null</td><td>null</td></tr><tr><td>&quot;P0001&quot;</td><td>&quot;S0012&quot;</td><td>&quot;2017-01-02&quot;</td><td>1.0</td><td>5.3</td><td>0.0</td><td>6.25</td><td>&quot;PR14&quot;</td><td>null</td><td>&quot;PR03&quot;</td><td>null</td><td>null</td><td>null</td></tr><tr><td>&quot;P0001&quot;</td><td>&quot;S0013&quot;</td><td>&quot;2017-01-02&quot;</td><td>2.0</td><td>10.59</td><td>0.0</td><td>6.25</td><td>&quot;PR14&quot;</td><td>null</td><td>&quot;PR03&quot;</td><td>null</td><td>null</td><td>null</td></tr><tr><td>&quot;P0001&quot;</td><td>&quot;S0023&quot;</td><td>&quot;2017-01-02&quot;</td><td>0.0</td><td>0.0</td><td>6.0</td><td>6.25</td><td>&quot;PR14&quot;</td><td>null</td><td>&quot;PR03&quot;</td><td>null</td><td>null</td><td>null</td></tr><tr><td>&quot;P0001&quot;</td><td>&quot;S0025&quot;</td><td>&quot;2017-01-02&quot;</td><td>0.0</td><td>0.0</td><td>1.0</td><td>6.25</td><td>&quot;PR14&quot;</td><td>null</td><td>&quot;PR03&quot;</td><td>null</td><td>null</td><td>null</td></tr><tr><td>&hellip;</td><td>&hellip;</td><td>&hellip;</td><td>&hellip;</td><td>&hellip;</td><td>&hellip;</td><td>&hellip;</td><td>&hellip;</td><td>&hellip;</td><td>&hellip;</td><td>&hellip;</td><td>&hellip;</td><td>&hellip;</td></tr><tr><td>&quot;P0748&quot;</td><td>&quot;S0125&quot;</td><td>&quot;2019-12-29&quot;</td><td>null</td><td>null</td><td>null</td><td>18.9</td><td>&quot;PR14&quot;</td><td>null</td><td>&quot;PR03&quot;</td><td>null</td><td>null</td><td>null</td></tr><tr><td>&quot;P0748&quot;</td><td>&quot;S0126&quot;</td><td>&quot;2019-12-29&quot;</td><td>null</td><td>null</td><td>null</td><td>18.9</td><td>&quot;PR14&quot;</td><td>null</td><td>&quot;PR03&quot;</td><td>null</td><td>null</td><td>null</td></tr><tr><td>&quot;P0748&quot;</td><td>&quot;S0131&quot;</td><td>&quot;2019-12-29&quot;</td><td>null</td><td>null</td><td>null</td><td>18.9</td><td>&quot;PR14&quot;</td><td>null</td><td>&quot;PR03&quot;</td><td>null</td><td>null</td><td>null</td></tr><tr><td>&quot;P0748&quot;</td><td>&quot;S0132&quot;</td><td>&quot;2019-12-29&quot;</td><td>null</td><td>null</td><td>null</td><td>18.9</td><td>&quot;PR14&quot;</td><td>null</td><td>&quot;PR03&quot;</td><td>null</td><td>null</td><td>null</td></tr><tr><td>&quot;P0748&quot;</td><td>&quot;S0142&quot;</td><td>&quot;2019-12-29&quot;</td><td>null</td><td>null</td><td>null</td><td>18.9</td><td>&quot;PR14&quot;</td><td>null</td><td>&quot;PR03&quot;</td><td>null</td><td>null</td><td>null</td></tr></tbody></table></div>"
            ]
          },
          "metadata": {},
          "execution_count": 3
        }
      ]
    },
    {
      "cell_type": "code",
      "source": [
        "df['promo_bin_1'].value_counts()"
      ],
      "metadata": {
        "colab": {
          "base_uri": "https://localhost:8080/",
          "height": 286
        },
        "id": "aVQW2yM23e2e",
        "outputId": "69ed0027-1b95-469f-d2bd-142c8143b00c"
      },
      "execution_count": null,
      "outputs": [
        {
          "output_type": "execute_result",
          "data": {
            "text/plain": [
              "shape: (6, 2)\n",
              "┌─────────────┬──────────┐\n",
              "│ promo_bin_1 ┆ count    │\n",
              "│ ---         ┆ ---      │\n",
              "│ str         ┆ u32      │\n",
              "╞═════════════╪══════════╡\n",
              "│ moderate    ┆ 418880   │\n",
              "│ low         ┆ 551829   │\n",
              "│ veryhigh    ┆ 255225   │\n",
              "│ null        ┆ 16803149 │\n",
              "│ verylow     ┆ 1117148  │\n",
              "│ high        ┆ 308607   │\n",
              "└─────────────┴──────────┘"
            ],
            "text/html": [
              "<div><style>\n",
              ".dataframe > thead > tr,\n",
              ".dataframe > tbody > tr {\n",
              "  text-align: right;\n",
              "  white-space: pre-wrap;\n",
              "}\n",
              "</style>\n",
              "<small>shape: (6, 2)</small><table border=\"1\" class=\"dataframe\"><thead><tr><th>promo_bin_1</th><th>count</th></tr><tr><td>str</td><td>u32</td></tr></thead><tbody><tr><td>&quot;moderate&quot;</td><td>418880</td></tr><tr><td>&quot;low&quot;</td><td>551829</td></tr><tr><td>&quot;veryhigh&quot;</td><td>255225</td></tr><tr><td>null</td><td>16803149</td></tr><tr><td>&quot;verylow&quot;</td><td>1117148</td></tr><tr><td>&quot;high&quot;</td><td>308607</td></tr></tbody></table></div>"
            ]
          },
          "metadata": {},
          "execution_count": 4
        }
      ]
    },
    {
      "cell_type": "code",
      "source": [
        "df['date'] = pl.to_datetime(df['date'])\n"
      ],
      "metadata": {
        "id": "c5A299Gq4kd2"
      },
      "execution_count": null,
      "outputs": []
    },
    {
      "cell_type": "code",
      "source": [
        "import seaborn as sns\n"
      ],
      "metadata": {
        "id": "eb0t6ZJL5cAz"
      },
      "execution_count": null,
      "outputs": []
    },
    {
      "cell_type": "code",
      "source": [
        "import matplotlib.pyplot as plt\n"
      ],
      "metadata": {
        "id": "LkciGfn454Kn"
      },
      "execution_count": null,
      "outputs": []
    },
    {
      "cell_type": "code",
      "source": [
        "import polars as pl\n",
        "\n",
        "# Identify numeric columns (adjust types if needed)\n",
        "numeric_cols = [col for col, dtype in df.schema.items() if dtype in (pl.Int64, pl.Float64)]\n",
        "\n",
        "# Build conditions to filter out outliers using the IQR method for each numeric column\n",
        "conditions = []\n",
        "for col in numeric_cols:\n",
        "    # Calculate Q1 and Q3 for the column\n",
        "    q1 = df.select(pl.col(col).quantile(0.25)).item()\n",
        "    q3 = df.select(pl.col(col).quantile(0.75)).item()\n",
        "    iqr = q3 - q1\n",
        "    lower_bound = q1 - 1.5 * iqr\n",
        "    upper_bound = q3 + 1.5 * iqr\n",
        "    conditions.append((pl.col(col) >= lower_bound) & (pl.col(col) <= upper_bound))\n",
        "\n",
        "# Combine conditions (a row is kept only if all numeric columns are within bounds)\n",
        "combined_condition = conditions[0]\n",
        "for cond in conditions[1:]:\n",
        "    combined_condition &= cond\n",
        "\n",
        "# Filter the DataFrame to remove outliers\n",
        "df_no_outliers = df.filter(combined_condition)\n",
        "\n",
        "print(df_no_outliers)\n",
        "df"
      ],
      "metadata": {
        "colab": {
          "base_uri": "https://localhost:8080/",
          "height": 1000
        },
        "id": "Ohw-BHCZ6n1u",
        "outputId": "daa336e2-03cf-4b13-88ec-b932138e99cf"
      },
      "execution_count": null,
      "outputs": [
        {
          "output_type": "stream",
          "name": "stdout",
          "text": [
            "shape: (12_560_367, 13)\n",
            "┌────────────┬──────────┬────────────┬───────┬───┬────────────┬────────────┬───────────┬───────────┐\n",
            "│ product_id ┆ store_id ┆ date       ┆ sales ┆ … ┆ promo_type ┆ promo_bin_ ┆ promo_dis ┆ promo_dis │\n",
            "│ ---        ┆ ---      ┆ ---        ┆ ---   ┆   ┆ _2         ┆ 2          ┆ count_2   ┆ count_typ │\n",
            "│ str        ┆ str      ┆ str        ┆ f64   ┆   ┆ ---        ┆ ---        ┆ ---       ┆ e_2       │\n",
            "│            ┆          ┆            ┆       ┆   ┆ str        ┆ str        ┆ str       ┆ ---       │\n",
            "│            ┆          ┆            ┆       ┆   ┆            ┆            ┆           ┆ str       │\n",
            "╞════════════╪══════════╪════════════╪═══════╪═══╪════════════╪════════════╪═══════════╪═══════════╡\n",
            "│ P0001      ┆ S0002    ┆ 2017-01-02 ┆ 0.0   ┆ … ┆ PR03       ┆ null       ┆ null      ┆ null      │\n",
            "│ P0001      ┆ S0023    ┆ 2017-01-02 ┆ 0.0   ┆ … ┆ PR03       ┆ null       ┆ null      ┆ null      │\n",
            "│ P0001      ┆ S0025    ┆ 2017-01-02 ┆ 0.0   ┆ … ┆ PR03       ┆ null       ┆ null      ┆ null      │\n",
            "│ P0001      ┆ S0027    ┆ 2017-01-02 ┆ 0.0   ┆ … ┆ PR03       ┆ null       ┆ null      ┆ null      │\n",
            "│ P0001      ┆ S0040    ┆ 2017-01-02 ┆ 0.0   ┆ … ┆ PR03       ┆ null       ┆ null      ┆ null      │\n",
            "│ …          ┆ …        ┆ …          ┆ …     ┆ … ┆ …          ┆ …          ┆ …         ┆ …         │\n",
            "│ P0748      ┆ S0125    ┆ 2019-10-31 ┆ 0.0   ┆ … ┆ PR03       ┆ null       ┆ null      ┆ null      │\n",
            "│ P0748      ┆ S0126    ┆ 2019-10-31 ┆ 0.0   ┆ … ┆ PR03       ┆ null       ┆ null      ┆ null      │\n",
            "│ P0748      ┆ S0131    ┆ 2019-10-31 ┆ 0.0   ┆ … ┆ PR03       ┆ null       ┆ null      ┆ null      │\n",
            "│ P0748      ┆ S0132    ┆ 2019-10-31 ┆ 0.0   ┆ … ┆ PR03       ┆ null       ┆ null      ┆ null      │\n",
            "│ P0748      ┆ S0142    ┆ 2019-10-31 ┆ 0.0   ┆ … ┆ PR03       ┆ null       ┆ null      ┆ null      │\n",
            "└────────────┴──────────┴────────────┴───────┴───┴────────────┴────────────┴───────────┴───────────┘\n"
          ]
        },
        {
          "output_type": "execute_result",
          "data": {
            "text/plain": [
              "shape: (19_454_838, 13)\n",
              "┌────────────┬──────────┬────────────┬───────┬───┬────────────┬────────────┬───────────┬───────────┐\n",
              "│ product_id ┆ store_id ┆ date       ┆ sales ┆ … ┆ promo_type ┆ promo_bin_ ┆ promo_dis ┆ promo_dis │\n",
              "│ ---        ┆ ---      ┆ ---        ┆ ---   ┆   ┆ _2         ┆ 2          ┆ count_2   ┆ count_typ │\n",
              "│ str        ┆ str      ┆ str        ┆ f64   ┆   ┆ ---        ┆ ---        ┆ ---       ┆ e_2       │\n",
              "│            ┆          ┆            ┆       ┆   ┆ str        ┆ str        ┆ str       ┆ ---       │\n",
              "│            ┆          ┆            ┆       ┆   ┆            ┆            ┆           ┆ str       │\n",
              "╞════════════╪══════════╪════════════╪═══════╪═══╪════════════╪════════════╪═══════════╪═══════════╡\n",
              "│ P0001      ┆ S0002    ┆ 2017-01-02 ┆ 0.0   ┆ … ┆ PR03       ┆ null       ┆ null      ┆ null      │\n",
              "│ P0001      ┆ S0012    ┆ 2017-01-02 ┆ 1.0   ┆ … ┆ PR03       ┆ null       ┆ null      ┆ null      │\n",
              "│ P0001      ┆ S0013    ┆ 2017-01-02 ┆ 2.0   ┆ … ┆ PR03       ┆ null       ┆ null      ┆ null      │\n",
              "│ P0001      ┆ S0023    ┆ 2017-01-02 ┆ 0.0   ┆ … ┆ PR03       ┆ null       ┆ null      ┆ null      │\n",
              "│ P0001      ┆ S0025    ┆ 2017-01-02 ┆ 0.0   ┆ … ┆ PR03       ┆ null       ┆ null      ┆ null      │\n",
              "│ …          ┆ …        ┆ …          ┆ …     ┆ … ┆ …          ┆ …          ┆ …         ┆ …         │\n",
              "│ P0748      ┆ S0125    ┆ 2019-12-29 ┆ null  ┆ … ┆ PR03       ┆ null       ┆ null      ┆ null      │\n",
              "│ P0748      ┆ S0126    ┆ 2019-12-29 ┆ null  ┆ … ┆ PR03       ┆ null       ┆ null      ┆ null      │\n",
              "│ P0748      ┆ S0131    ┆ 2019-12-29 ┆ null  ┆ … ┆ PR03       ┆ null       ┆ null      ┆ null      │\n",
              "│ P0748      ┆ S0132    ┆ 2019-12-29 ┆ null  ┆ … ┆ PR03       ┆ null       ┆ null      ┆ null      │\n",
              "│ P0748      ┆ S0142    ┆ 2019-12-29 ┆ null  ┆ … ┆ PR03       ┆ null       ┆ null      ┆ null      │\n",
              "└────────────┴──────────┴────────────┴───────┴───┴────────────┴────────────┴───────────┴───────────┘"
            ],
            "text/html": [
              "<div><style>\n",
              ".dataframe > thead > tr,\n",
              ".dataframe > tbody > tr {\n",
              "  text-align: right;\n",
              "  white-space: pre-wrap;\n",
              "}\n",
              "</style>\n",
              "<small>shape: (19_454_838, 13)</small><table border=\"1\" class=\"dataframe\"><thead><tr><th>product_id</th><th>store_id</th><th>date</th><th>sales</th><th>revenue</th><th>stock</th><th>price</th><th>promo_type_1</th><th>promo_bin_1</th><th>promo_type_2</th><th>promo_bin_2</th><th>promo_discount_2</th><th>promo_discount_type_2</th></tr><tr><td>str</td><td>str</td><td>str</td><td>f64</td><td>f64</td><td>f64</td><td>f64</td><td>str</td><td>str</td><td>str</td><td>str</td><td>str</td><td>str</td></tr></thead><tbody><tr><td>&quot;P0001&quot;</td><td>&quot;S0002&quot;</td><td>&quot;2017-01-02&quot;</td><td>0.0</td><td>0.0</td><td>8.0</td><td>6.25</td><td>&quot;PR14&quot;</td><td>null</td><td>&quot;PR03&quot;</td><td>null</td><td>null</td><td>null</td></tr><tr><td>&quot;P0001&quot;</td><td>&quot;S0012&quot;</td><td>&quot;2017-01-02&quot;</td><td>1.0</td><td>5.3</td><td>0.0</td><td>6.25</td><td>&quot;PR14&quot;</td><td>null</td><td>&quot;PR03&quot;</td><td>null</td><td>null</td><td>null</td></tr><tr><td>&quot;P0001&quot;</td><td>&quot;S0013&quot;</td><td>&quot;2017-01-02&quot;</td><td>2.0</td><td>10.59</td><td>0.0</td><td>6.25</td><td>&quot;PR14&quot;</td><td>null</td><td>&quot;PR03&quot;</td><td>null</td><td>null</td><td>null</td></tr><tr><td>&quot;P0001&quot;</td><td>&quot;S0023&quot;</td><td>&quot;2017-01-02&quot;</td><td>0.0</td><td>0.0</td><td>6.0</td><td>6.25</td><td>&quot;PR14&quot;</td><td>null</td><td>&quot;PR03&quot;</td><td>null</td><td>null</td><td>null</td></tr><tr><td>&quot;P0001&quot;</td><td>&quot;S0025&quot;</td><td>&quot;2017-01-02&quot;</td><td>0.0</td><td>0.0</td><td>1.0</td><td>6.25</td><td>&quot;PR14&quot;</td><td>null</td><td>&quot;PR03&quot;</td><td>null</td><td>null</td><td>null</td></tr><tr><td>&hellip;</td><td>&hellip;</td><td>&hellip;</td><td>&hellip;</td><td>&hellip;</td><td>&hellip;</td><td>&hellip;</td><td>&hellip;</td><td>&hellip;</td><td>&hellip;</td><td>&hellip;</td><td>&hellip;</td><td>&hellip;</td></tr><tr><td>&quot;P0748&quot;</td><td>&quot;S0125&quot;</td><td>&quot;2019-12-29&quot;</td><td>null</td><td>null</td><td>null</td><td>18.9</td><td>&quot;PR14&quot;</td><td>null</td><td>&quot;PR03&quot;</td><td>null</td><td>null</td><td>null</td></tr><tr><td>&quot;P0748&quot;</td><td>&quot;S0126&quot;</td><td>&quot;2019-12-29&quot;</td><td>null</td><td>null</td><td>null</td><td>18.9</td><td>&quot;PR14&quot;</td><td>null</td><td>&quot;PR03&quot;</td><td>null</td><td>null</td><td>null</td></tr><tr><td>&quot;P0748&quot;</td><td>&quot;S0131&quot;</td><td>&quot;2019-12-29&quot;</td><td>null</td><td>null</td><td>null</td><td>18.9</td><td>&quot;PR14&quot;</td><td>null</td><td>&quot;PR03&quot;</td><td>null</td><td>null</td><td>null</td></tr><tr><td>&quot;P0748&quot;</td><td>&quot;S0132&quot;</td><td>&quot;2019-12-29&quot;</td><td>null</td><td>null</td><td>null</td><td>18.9</td><td>&quot;PR14&quot;</td><td>null</td><td>&quot;PR03&quot;</td><td>null</td><td>null</td><td>null</td></tr><tr><td>&quot;P0748&quot;</td><td>&quot;S0142&quot;</td><td>&quot;2019-12-29&quot;</td><td>null</td><td>null</td><td>null</td><td>18.9</td><td>&quot;PR14&quot;</td><td>null</td><td>&quot;PR03&quot;</td><td>null</td><td>null</td><td>null</td></tr></tbody></table></div>"
            ]
          },
          "metadata": {},
          "execution_count": 4
        }
      ]
    },
    {
      "cell_type": "code",
      "source": [
        "cols_to_drop = [\n",
        "    'promo_type_1', 'promo_bin_1',\n",
        "    'promo_type_2', 'promo_bin_2',\n",
        "    'promo_discount_2', 'promo_discount_type_2'\n",
        "]\n",
        "df = df.drop(cols_to_drop)"
      ],
      "metadata": {
        "id": "uT91AnQU_ylq"
      },
      "execution_count": null,
      "outputs": []
    },
    {
      "cell_type": "code",
      "source": [
        "from prophet import Prophet\n",
        "df_pandas = df_pandas.rename(columns={\"timestamp\": \"ds\", \"value\": \"y\"})\n",
        "\n",
        "# Fit Prophet model\n",
        "model = Prophet()\n",
        "model.fit(df_pandas)\n",
        "\n",
        "# Make future predictions\n",
        "future = model.make_future_dataframe(periods=30, freq=\"D\")\n",
        "forecast = model.predict(future)\n",
        "\n",
        "print(forecast[[\"ds\", \"yhat\", \"yhat_lower\", \"yhat_upper\"]])"
      ],
      "metadata": {
        "id": "3tT90JlpY89l"
      },
      "execution_count": null,
      "outputs": []
    }
  ]
}